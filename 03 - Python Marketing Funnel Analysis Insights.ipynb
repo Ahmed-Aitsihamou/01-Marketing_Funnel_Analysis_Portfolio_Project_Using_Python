{
 "cells": [
  {
   "cell_type": "markdown",
   "id": "7fb77ae1",
   "metadata": {},
   "source": [
    "# 📊 Marketing Funnel Analysis with Python\n",
    "\n",
    "This notebook walks through the complete process of analyzing a digital marketing funnel, identifying drop-off points, calculating conversion rates, and generating actionable insights."
   ]
  },
  {
   "cell_type": "markdown",
   "id": "8816e17f",
   "metadata": {},
   "source": [
    "### 1. 📦 Data Simulation\n",
    "\n",
    "Simulating synthetic data for 5,000 users moving through a 5-step funnel:\n",
    "- Ad Click\n",
    "- Landing Page View\n",
    "- Signup\n",
    "- Product Trial\n",
    "- Purchase\n",
    "\n",
    "Each user is also tagged with a marketing campaign and a channel.\n",
    "\n",
    "### 2. 📈 Funnel Stage Metrics\n",
    "\n",
    "Counting users at each funnel stage and computing conversion rates between steps.\n",
    "\n",
    "### 3. ⏱ Time to Convert Between Stages\n",
    "\n",
    "Calculating the median number of days users take to progress from one stage to the next.\n",
    "\n",
    "### 4. 📊 Conversion by Channel\n",
    "\n",
    "Analyzing conversion rates to purchase for each marketing channel.\n",
    "\n",
    "### 5. 📢 Conversion by Campaign\n",
    "\n",
    "Analyzing conversion rates to purchase for each marketing campaign."
   ]
  },
  {
   "cell_type": "markdown",
   "metadata": {},
   "source": [
    "### 0. Import needed libraries & Dataset"
   ]
  },
  {
   "cell_type": "code",
   "execution_count": 2,
   "metadata": {},
   "outputs": [],
   "source": [
    "# import libraries needed for the analysis\n",
    "import pandas as pd\n",
    "import numpy as np\n",
    "import seaborn as sns\n",
    "import matplotlib.pyplot as plt\n",
    "import plotly.express as px\n"
   ]
  },
  {
   "cell_type": "code",
   "execution_count": 3,
   "metadata": {},
   "outputs": [],
   "source": [
    "# Import the data\n",
    "df = pd.read_csv(r\"C:\\Users\\Mugen\\Desktop\\03 - Data Analysis Portfolio Projects\\01 - Optimizing the Marketing Funnel - Drop-Off & Conversion Insights\\02 - Marketing_Funnel_Dataset.csv\")"
   ]
  },
  {
   "cell_type": "markdown",
   "metadata": {},
   "source": [
    "### 1. Data Overview"
   ]
  },
  {
   "cell_type": "code",
   "execution_count": 4,
   "metadata": {},
   "outputs": [
    {
     "data": {
      "text/html": [
       "<div>\n",
       "<style scoped>\n",
       "    .dataframe tbody tr th:only-of-type {\n",
       "        vertical-align: middle;\n",
       "    }\n",
       "\n",
       "    .dataframe tbody tr th {\n",
       "        vertical-align: top;\n",
       "    }\n",
       "\n",
       "    .dataframe thead th {\n",
       "        text-align: right;\n",
       "    }\n",
       "</style>\n",
       "<table border=\"1\" class=\"dataframe\">\n",
       "  <thead>\n",
       "    <tr style=\"text-align: right;\">\n",
       "      <th></th>\n",
       "      <th>user_id</th>\n",
       "      <th>ad_click_date</th>\n",
       "      <th>landing_page_view_date</th>\n",
       "      <th>signup_date</th>\n",
       "      <th>trial_date</th>\n",
       "      <th>purchase_date</th>\n",
       "      <th>campaign</th>\n",
       "      <th>channel</th>\n",
       "    </tr>\n",
       "  </thead>\n",
       "  <tbody>\n",
       "    <tr>\n",
       "      <th>0</th>\n",
       "      <td>user_1</td>\n",
       "      <td>2024-01-07</td>\n",
       "      <td>2024-01-07</td>\n",
       "      <td>2024-01-10</td>\n",
       "      <td>2024-01-11</td>\n",
       "      <td>NaN</td>\n",
       "      <td>Winter Promo</td>\n",
       "      <td>TikTok</td>\n",
       "    </tr>\n",
       "    <tr>\n",
       "      <th>1</th>\n",
       "      <td>user_2</td>\n",
       "      <td>2024-01-20</td>\n",
       "      <td>2024-01-20</td>\n",
       "      <td>NaN</td>\n",
       "      <td>NaN</td>\n",
       "      <td>NaN</td>\n",
       "      <td>Spring Launch</td>\n",
       "      <td>YouTube</td>\n",
       "    </tr>\n",
       "    <tr>\n",
       "      <th>2</th>\n",
       "      <td>user_3</td>\n",
       "      <td>2024-01-29</td>\n",
       "      <td>NaN</td>\n",
       "      <td>NaN</td>\n",
       "      <td>NaN</td>\n",
       "      <td>NaN</td>\n",
       "      <td>Winter Promo</td>\n",
       "      <td>TikTok</td>\n",
       "    </tr>\n",
       "    <tr>\n",
       "      <th>3</th>\n",
       "      <td>user_4</td>\n",
       "      <td>2024-01-15</td>\n",
       "      <td>2024-01-15</td>\n",
       "      <td>2024-01-18</td>\n",
       "      <td>NaN</td>\n",
       "      <td>NaN</td>\n",
       "      <td>Holiday Blitz</td>\n",
       "      <td>YouTube</td>\n",
       "    </tr>\n",
       "    <tr>\n",
       "      <th>4</th>\n",
       "      <td>user_5</td>\n",
       "      <td>2024-01-11</td>\n",
       "      <td>2024-01-11</td>\n",
       "      <td>2024-01-14</td>\n",
       "      <td>2024-01-16</td>\n",
       "      <td>2024-01-19</td>\n",
       "      <td>Winter Promo</td>\n",
       "      <td>Instagram</td>\n",
       "    </tr>\n",
       "  </tbody>\n",
       "</table>\n",
       "</div>"
      ],
      "text/plain": [
       "  user_id ad_click_date landing_page_view_date signup_date  trial_date  \\\n",
       "0  user_1    2024-01-07             2024-01-07  2024-01-10  2024-01-11   \n",
       "1  user_2    2024-01-20             2024-01-20         NaN         NaN   \n",
       "2  user_3    2024-01-29                    NaN         NaN         NaN   \n",
       "3  user_4    2024-01-15             2024-01-15  2024-01-18         NaN   \n",
       "4  user_5    2024-01-11             2024-01-11  2024-01-14  2024-01-16   \n",
       "\n",
       "  purchase_date       campaign    channel  \n",
       "0           NaN   Winter Promo     TikTok  \n",
       "1           NaN  Spring Launch    YouTube  \n",
       "2           NaN   Winter Promo     TikTok  \n",
       "3           NaN  Holiday Blitz    YouTube  \n",
       "4    2024-01-19   Winter Promo  Instagram  "
      ]
     },
     "execution_count": 4,
     "metadata": {},
     "output_type": "execute_result"
    }
   ],
   "source": [
    "df.head()"
   ]
  },
  {
   "cell_type": "code",
   "execution_count": 5,
   "metadata": {},
   "outputs": [
    {
     "name": "stdout",
     "output_type": "stream",
     "text": [
      "<class 'pandas.core.frame.DataFrame'>\n",
      "RangeIndex: 5000 entries, 0 to 4999\n",
      "Data columns (total 8 columns):\n",
      " #   Column                  Non-Null Count  Dtype \n",
      "---  ------                  --------------  ----- \n",
      " 0   user_id                 5000 non-null   object\n",
      " 1   ad_click_date           5000 non-null   object\n",
      " 2   landing_page_view_date  4277 non-null   object\n",
      " 3   signup_date             2605 non-null   object\n",
      " 4   trial_date              1796 non-null   object\n",
      " 5   purchase_date           663 non-null    object\n",
      " 6   campaign                5000 non-null   object\n",
      " 7   channel                 5000 non-null   object\n",
      "dtypes: object(8)\n",
      "memory usage: 312.6+ KB\n"
     ]
    }
   ],
   "source": [
    "# Check the data types and null values in the dataset\n",
    "df.info()"
   ]
  },
  {
   "cell_type": "code",
   "execution_count": 6,
   "metadata": {},
   "outputs": [],
   "source": [
    "# Convert the date columns to datetime format\n",
    "\n",
    "df[\"ad_click_date\"] = pd.to_datetime(df[\"ad_click_date\"], errors=\"coerce\")\n",
    "df[\"landing_page_view_date\"] = pd.to_datetime(df[\"landing_page_view_date\"], errors=\"coerce\")\n",
    "df[\"signup_date\"] = pd.to_datetime(df[\"signup_date\"], errors=\"coerce\")\n",
    "df[\"trial_date\"] = pd.to_datetime(df[\"trial_date\"], errors=\"coerce\")\n",
    "df[\"purchase_date\"] = pd.to_datetime(df[\"purchase_date\"], errors=\"coerce\")\n"
   ]
  },
  {
   "cell_type": "code",
   "execution_count": 7,
   "metadata": {},
   "outputs": [
    {
     "data": {
      "text/plain": [
       "0"
      ]
     },
     "execution_count": 7,
     "metadata": {},
     "output_type": "execute_result"
    }
   ],
   "source": [
    "# Check for duplicates in the dataset\n",
    "df.duplicated().sum()"
   ]
  },
  {
   "cell_type": "code",
   "execution_count": 8,
   "metadata": {},
   "outputs": [
    {
     "data": {
      "text/plain": [
       "5000"
      ]
     },
     "execution_count": 8,
     "metadata": {},
     "output_type": "execute_result"
    }
   ],
   "source": [
    "# Count the number of unique users in the dataset\n",
    "df[\"user_id\"].nunique()"
   ]
  },
  {
   "cell_type": "code",
   "execution_count": 9,
   "metadata": {},
   "outputs": [
    {
     "data": {
      "text/plain": [
       "array(['Winter Promo', 'Spring Launch', 'Holiday Blitz'], dtype=object)"
      ]
     },
     "execution_count": 9,
     "metadata": {},
     "output_type": "execute_result"
    }
   ],
   "source": [
    "# Check unique values in the campaign column\n",
    "df[\"campaign\"].unique()"
   ]
  },
  {
   "cell_type": "code",
   "execution_count": 10,
   "metadata": {},
   "outputs": [
    {
     "data": {
      "text/plain": [
       "array(['TikTok', 'YouTube', 'Instagram', 'Email', 'Google Ads',\n",
       "       'Facebook'], dtype=object)"
      ]
     },
     "execution_count": 10,
     "metadata": {},
     "output_type": "execute_result"
    }
   ],
   "source": [
    "# Check unique values in the Channel column\n",
    "df[\"channel\"].unique()"
   ]
  },
  {
   "cell_type": "code",
   "execution_count": 11,
   "metadata": {},
   "outputs": [],
   "source": [
    "# Helper function to add labels on barscharts\n",
    "def add_bar_labels(ax):\n",
    "    for p in ax.patches:\n",
    "        height = p.get_height()\n",
    "        ax.annotate(f'{int(height)}', \n",
    "                    (p.get_x() + p.get_width() / 2., height), \n",
    "                    ha='center', va='bottom', fontsize=9, color='black')"
   ]
  },
  {
   "cell_type": "code",
   "execution_count": 12,
   "metadata": {},
   "outputs": [
    {
     "name": "stderr",
     "output_type": "stream",
     "text": [
      "C:\\Users\\Mugen\\AppData\\Local\\Temp\\ipykernel_36044\\1868715423.py:5: FutureWarning: \n",
      "\n",
      "Passing `palette` without assigning `hue` is deprecated and will be removed in v0.14.0. Assign the `x` variable to `hue` and set `legend=False` for the same effect.\n",
      "\n",
      "  ax = sns.countplot(data=df, x=\"channel\", order=channel_order, palette=\"viridis\")\n"
     ]
    },
    {
     "data": {
      "image/png": "[encoded data removed]",
      "text/plain": [
       "<Figure size 1000x600 with 1 Axes>"
      ]
     },
     "metadata": {},
     "output_type": "display_data"
    }
   ],
   "source": [
    "# create a bar chart to count total users ber channel\n",
    "channel_order = df['channel'].value_counts().index\n",
    "\n",
    "plt.figure(figsize=(10, 6))\n",
    "ax = sns.countplot(data=df, x=\"channel\", order=channel_order, palette=\"viridis\")\n",
    "add_bar_labels(ax)\n",
    "plt.title(\"Number of Users by Channel\")\n",
    "plt.xlabel(\"Channel\")\n",
    "plt.ylabel(\"Number of Users\")\n",
    "plt.xticks(rotation=45)\n",
    "plt.tight_layout()\n",
    "plt.show()"
   ]
  },
  {
   "cell_type": "code",
   "execution_count": 13,
   "metadata": {},
   "outputs": [
    {
     "name": "stderr",
     "output_type": "stream",
     "text": [
      "C:\\Users\\Mugen\\AppData\\Local\\Temp\\ipykernel_36044\\1944806528.py:5: FutureWarning: \n",
      "\n",
      "Passing `palette` without assigning `hue` is deprecated and will be removed in v0.14.0. Assign the `x` variable to `hue` and set `legend=False` for the same effect.\n",
      "\n",
      "  ax = sns.countplot(data=df, x=\"campaign\", order=campaign_order, palette=\"viridis\")\n"
     ]
    },
    {
     "data": {
      "image/png": "[encoded data removed]",
      "text/plain": [
       "<Figure size 800x500 with 1 Axes>"
      ]
     },
     "metadata": {},
     "output_type": "display_data"
    }
   ],
   "source": [
    "# create a bar chart to count total users per channecampaign\n",
    "campaign_order = df[\"campaign\"].value_counts().index\n",
    "\n",
    "plt.figure(figsize=(8, 5))\n",
    "ax = sns.countplot(data=df, x=\"campaign\", order=campaign_order, palette=\"viridis\")\n",
    "add_bar_labels(ax)\n",
    "plt.title(\"Number of Users by Campaign\")\n",
    "plt.xlabel(\"Campaign\")\n",
    "plt.ylabel(\"Number of Users\")\n",
    "plt.xticks(rotation=45)\n",
    "plt.tight_layout()\n",
    "plt.show()\n",
    "\n"
   ]
  },
  {
   "cell_type": "markdown",
   "metadata": {},
   "source": [
    "### 2. Funnel Stage Metrics\n",
    "\n",
    "Counting users at each funnel stage and computing conversion rates between steps."
   ]
  },
  {
   "cell_type": "code",
   "execution_count": 14,
   "metadata": {},
   "outputs": [
    {
     "data": {
      "application/vnd.plotly.v1+json": {
       "config": {
        "plotlyServerURL": "https://plot.ly"
       },
       "data": [
        {
         "hovertemplate": "number=%{x}<br>stage=%{y}<extra></extra>",
         "legendgroup": "",
         "marker": {
          "color": "#636efa"
         },
         "name": "",
         "orientation": "h",
         "showlegend": false,
         "type": "funnel",
         "x": [
          5000,
          4277,
          2605,
          1796,
          663
         ],
         "xaxis": "x",
         "y": [
          "Ad Clicked",
          "Landing Page Viewed",
          "Signed Up",
          "Trial Started",
          "Purchased"
         ],
         "yaxis": "y"
        }
       ],
       "layout": {
        "legend": {
         "tracegroupgap": 0
        },
        "margin": {
         "t": 60
        },
        "template": {
         "data": {
          "bar": [
           {
            "error_x": {
             "color": "#2a3f5f"
            },
            "error_y": {
             "color": "#2a3f5f"
            },
            "marker": {
             "line": {
              "color": "#E5ECF6",
              "width": 0.5
             },
             "pattern": {
              "fillmode": "overlay",
              "size": 10,
              "solidity": 0.2
             }
            },
            "type": "bar"
           }
          ],
          "barpolar": [
           {
            "marker": {
             "line": {
              "color": "#E5ECF6",
              "width": 0.5
             },
             "pattern": {
              "fillmode": "overlay",
              "size": 10,
              "solidity": 0.2
             }
            },
            "type": "barpolar"
           }
          ],
          "carpet": [
           {
            "aaxis": {
             "endlinecolor": "#2a3f5f",
             "gridcolor": "white",
             "linecolor": "white",
             "minorgridcolor": "white",
             "startlinecolor": "#2a3f5f"
            },
            "baxis": {
             "endlinecolor": "#2a3f5f",
             "gridcolor": "white",
             "linecolor": "white",
             "minorgridcolor": "white",
             "startlinecolor": "#2a3f5f"
            },
            "type": "carpet"
           }
          ],
          "choropleth": [
           {
            "colorbar": {
             "outlinewidth": 0,
             "ticks": ""
            },
            "type": "choropleth"
           }
          ],
          "contour": [
           {
            "colorbar": {
             "outlinewidth": 0,
             "ticks": ""
            },
            "colorscale": [
             [
              0,
              "#0d0887"
             ],
             [
              0.1111111111111111,
              "#46039f"
             ],
             [
              0.2222222222222222,
              "#7201a8"
             ],
             [
              0.3333333333333333,
              "#9c179e"
             ],
             [
              0.4444444444444444,
              "#bd3786"
             ],
             [
              0.5555555555555556,
              "#d8576b"
             ],
             [
              0.6666666666666666,
              "#ed7953"
             ],
             [
              0.7777777777777778,
              "#fb9f3a"
             ],
             [
              0.8888888888888888,
              "#fdca26"
             ],
             [
              1,
              "#f0f921"
             ]
            ],
            "type": "contour"
           }
          ],
          "contourcarpet": [
           {
            "colorbar": {
             "outlinewidth": 0,
             "ticks": ""
            },
            "type": "contourcarpet"
           }
          ],
          "heatmap": [
           {
            "colorbar": {
             "outlinewidth": 0,
             "ticks": ""
            },
            "colorscale": [
             [
              0,
              "#0d0887"
             ],
             [
              0.1111111111111111,
              "#46039f"
             ],
             [
              0.2222222222222222,
              "#7201a8"
             ],
             [
              0.3333333333333333,
              "#9c179e"
             ],
             [
              0.4444444444444444,
              "#bd3786"
             ],
             [
              0.5555555555555556,
              "#d8576b"
             ],
             [
              0.6666666666666666,
              "#ed7953"
             ],
             [
              0.7777777777777778,
              "#fb9f3a"
             ],
             [
              0.8888888888888888,
              "#fdca26"
             ],
             [
              1,
              "#f0f921"
             ]
            ],
            "type": "heatmap"
           }
          ],
          "heatmapgl": [
           {
            "colorbar": {
             "outlinewidth": 0,
             "ticks": ""
            },
            "colorscale": [
             [
              0,
              "#0d0887"
             ],
             [
              0.1111111111111111,
              "#46039f"
             ],
             [
              0.2222222222222222,
              "#7201a8"
             ],
             [
              0.3333333333333333,
              "#9c179e"
             ],
             [
              0.4444444444444444,
              "#bd3786"
             ],
             [
              0.5555555555555556,
              "#d8576b"
             ],
             [
              0.6666666666666666,
              "#ed7953"
             ],
             [
              0.7777777777777778,
              "#fb9f3a"
             ],
             [
              0.8888888888888888,
              "#fdca26"
             ],
             [
              1,
              "#f0f921"
             ]
            ],
            "type": "heatmapgl"
           }
          ],
          "histogram": [
           {
            "marker": {
             "pattern": {
              "fillmode": "overlay",
              "size": 10,
              "solidity": 0.2
             }
            },
            "type": "histogram"
           }
          ],
          "histogram2d": [
           {
            "colorbar": {
             "outlinewidth": 0,
             "ticks": ""
            },
            "colorscale": [
             [
              0,
              "#0d0887"
             ],
             [
              0.1111111111111111,
              "#46039f"
             ],
             [
              0.2222222222222222,
              "#7201a8"
             ],
             [
              0.3333333333333333,
              "#9c179e"
             ],
             [
              0.4444444444444444,
              "#bd3786"
             ],
             [
              0.5555555555555556,
              "#d8576b"
             ],
             [
              0.6666666666666666,
              "#ed7953"
             ],
             [
              0.7777777777777778,
              "#fb9f3a"
             ],
             [
              0.8888888888888888,
              "#fdca26"
             ],
             [
              1,
              "#f0f921"
             ]
            ],
            "type": "histogram2d"
           }
          ],
          "histogram2dcontour": [
           {
            "colorbar": {
             "outlinewidth": 0,
             "ticks": ""
            },
            "colorscale": [
             [
              0,
              "#0d0887"
             ],
             [
              0.1111111111111111,
              "#46039f"
             ],
             [
              0.2222222222222222,
              "#7201a8"
             ],
             [
              0.3333333333333333,
              "#9c179e"
             ],
             [
              0.4444444444444444,
              "#bd3786"
             ],
             [
              0.5555555555555556,
              "#d8576b"
             ],
             [
              0.6666666666666666,
              "#ed7953"
             ],
             [
              0.7777777777777778,
              "#fb9f3a"
             ],
             [
              0.8888888888888888,
              "#fdca26"
             ],
             [
              1,
              "#f0f921"
             ]
            ],
            "type": "histogram2dcontour"
           }
          ],
          "mesh3d": [
           {
            "colorbar": {
             "outlinewidth": 0,
             "ticks": ""
            },
            "type": "mesh3d"
           }
          ],
          "parcoords": [
           {
            "line": {
             "colorbar": {
              "outlinewidth": 0,
              "ticks": ""
             }
            },
            "type": "parcoords"
           }
          ],
          "pie": [
           {
            "automargin": true,
            "type": "pie"
           }
          ],
          "scatter": [
           {
            "fillpattern": {
             "fillmode": "overlay",
             "size": 10,
             "solidity": 0.2
            },
            "type": "scatter"
           }
          ],
          "scatter3d": [
           {
            "line": {
             "colorbar": {
              "outlinewidth": 0,
              "ticks": ""
             }
            },
            "marker": {
             "colorbar": {
              "outlinewidth": 0,
              "ticks": ""
             }
            },
            "type": "scatter3d"
           }
          ],
          "scattercarpet": [
           {
            "marker": {
             "colorbar": {
              "outlinewidth": 0,
              "ticks": ""
             }
            },
            "type": "scattercarpet"
           }
          ],
          "scattergeo": [
           {
            "marker": {
             "colorbar": {
              "outlinewidth": 0,
              "ticks": ""
             }
            },
            "type": "scattergeo"
           }
          ],
          "scattergl": [
           {
            "marker": {
             "colorbar": {
              "outlinewidth": 0,
              "ticks": ""
             }
            },
            "type": "scattergl"
           }
          ],
          "scattermapbox": [
           {
            "marker": {
             "colorbar": {
              "outlinewidth": 0,
              "ticks": ""
             }
            },
            "type": "scattermapbox"
           }
          ],
          "scatterpolar": [
           {
            "marker": {
             "colorbar": {
              "outlinewidth": 0,
              "ticks": ""
             }
            },
            "type": "scatterpolar"
           }
          ],
          "scatterpolargl": [
           {
            "marker": {
             "colorbar": {
              "outlinewidth": 0,
              "ticks": ""
             }
            },
            "type": "scatterpolargl"
           }
          ],
          "scatterternary": [
           {
            "marker": {
             "colorbar": {
              "outlinewidth": 0,
              "ticks": ""
             }
            },
            "type": "scatterternary"
           }
          ],
          "surface": [
           {
            "colorbar": {
             "outlinewidth": 0,
             "ticks": ""
            },
            "colorscale": [
             [
              0,
              "#0d0887"
             ],
             [
              0.1111111111111111,
              "#46039f"
             ],
             [
              0.2222222222222222,
              "#7201a8"
             ],
             [
              0.3333333333333333,
              "#9c179e"
             ],
             [
              0.4444444444444444,
              "#bd3786"
             ],
             [
              0.5555555555555556,
              "#d8576b"
             ],
             [
              0.6666666666666666,
              "#ed7953"
             ],
             [
              0.7777777777777778,
              "#fb9f3a"
             ],
             [
              0.8888888888888888,
              "#fdca26"
             ],
             [
              1,
              "#f0f921"
             ]
            ],
            "type": "surface"
           }
          ],
          "table": [
           {
            "cells": {
             "fill": {
              "color": "#EBF0F8"
             },
             "line": {
              "color": "white"
             }
            },
            "header": {
             "fill": {
              "color": "#C8D4E3"
             },
             "line": {
              "color": "white"
             }
            },
            "type": "table"
           }
          ]
         },
         "layout": {
          "annotationdefaults": {
           "arrowcolor": "#2a3f5f",
           "arrowhead": 0,
           "arrowwidth": 1
          },
          "autotypenumbers": "strict",
          "coloraxis": {
           "colorbar": {
            "outlinewidth": 0,
            "ticks": ""
           }
          },
          "colorscale": {
           "diverging": [
            [
             0,
             "#8e0152"
            ],
            [
             0.1,
             "#c51b7d"
            ],
            [
             0.2,
             "#de77ae"
            ],
            [
             0.3,
             "#f1b6da"
            ],
            [
             0.4,
             "#fde0ef"
            ],
            [
             0.5,
             "#f7f7f7"
            ],
            [
             0.6,
             "#e6f5d0"
            ],
            [
             0.7,
             "#b8e186"
            ],
            [
             0.8,
             "#7fbc41"
            ],
            [
             0.9,
             "#4d9221"
            ],
            [
             1,
             "#276419"
            ]
           ],
           "sequential": [
            [
             0,
             "#0d0887"
            ],
            [
             0.1111111111111111,
             "#46039f"
            ],
            [
             0.2222222222222222,
             "#7201a8"
            ],
            [
             0.3333333333333333,
             "#9c179e"
            ],
            [
             0.4444444444444444,
             "#bd3786"
            ],
            [
             0.5555555555555556,
             "#d8576b"
            ],
            [
             0.6666666666666666,
             "#ed7953"
            ],
            [
             0.7777777777777778,
             "#fb9f3a"
            ],
            [
             0.8888888888888888,
             "#fdca26"
            ],
            [
             1,
             "#f0f921"
            ]
           ],
           "sequentialminus": [
            [
             0,
             "#0d0887"
            ],
            [
             0.1111111111111111,
             "#46039f"
            ],
            [
             0.2222222222222222,
             "#7201a8"
            ],
            [
             0.3333333333333333,
             "#9c179e"
            ],
            [
             0.4444444444444444,
             "#bd3786"
            ],
            [
             0.5555555555555556,
             "#d8576b"
            ],
            [
             0.6666666666666666,
             "#ed7953"
            ],
            [
             0.7777777777777778,
             "#fb9f3a"
            ],
            [
             0.8888888888888888,
             "#fdca26"
            ],
            [
             1,
             "#f0f921"
            ]
           ]
          },
          "colorway": [
           "#636efa",
           "#EF553B",
           "#00cc96",
           "#ab63fa",
           "#FFA15A",
           "#19d3f3",
           "#FF6692",
           "#B6E880",
           "#FF97FF",
           "#FECB52"
          ],
          "font": {
           "color": "#2a3f5f"
          },
          "geo": {
           "bgcolor": "white",
           "lakecolor": "white",
           "landcolor": "#E5ECF6",
           "showlakes": true,
           "showland": true,
           "subunitcolor": "white"
          },
          "hoverlabel": {
           "align": "left"
          },
          "hovermode": "closest",
          "mapbox": {
           "style": "light"
          },
          "paper_bgcolor": "white",
          "plot_bgcolor": "#E5ECF6",
          "polar": {
           "angularaxis": {
            "gridcolor": "white",
            "linecolor": "white",
            "ticks": ""
           },
           "bgcolor": "#E5ECF6",
           "radialaxis": {
            "gridcolor": "white",
            "linecolor": "white",
            "ticks": ""
           }
          },
          "scene": {
           "xaxis": {
            "backgroundcolor": "#E5ECF6",
            "gridcolor": "white",
            "gridwidth": 2,
            "linecolor": "white",
            "showbackground": true,
            "ticks": "",
            "zerolinecolor": "white"
           },
           "yaxis": {
            "backgroundcolor": "#E5ECF6",
            "gridcolor": "white",
            "gridwidth": 2,
            "linecolor": "white",
            "showbackground": true,
            "ticks": "",
            "zerolinecolor": "white"
           },
           "zaxis": {
            "backgroundcolor": "#E5ECF6",
            "gridcolor": "white",
            "gridwidth": 2,
            "linecolor": "white",
            "showbackground": true,
            "ticks": "",
            "zerolinecolor": "white"
           }
          },
          "shapedefaults": {
           "line": {
            "color": "#2a3f5f"
           }
          },
          "ternary": {
           "aaxis": {
            "gridcolor": "white",
            "linecolor": "white",
            "ticks": ""
           },
           "baxis": {
            "gridcolor": "white",
            "linecolor": "white",
            "ticks": ""
           },
           "bgcolor": "#E5ECF6",
           "caxis": {
            "gridcolor": "white",
            "linecolor": "white",
            "ticks": ""
           }
          },
          "title": {
           "x": 0.05
          },
          "xaxis": {
           "automargin": true,
           "gridcolor": "white",
           "linecolor": "white",
           "ticks": "",
           "title": {
            "standoff": 15
           },
           "zerolinecolor": "white",
           "zerolinewidth": 2
          },
          "yaxis": {
           "automargin": true,
           "gridcolor": "white",
           "linecolor": "white",
           "ticks": "",
           "title": {
            "standoff": 15
           },
           "zerolinecolor": "white",
           "zerolinewidth": 2
          }
         }
        },
        "xaxis": {
         "anchor": "y",
         "domain": [
          0,
          1
         ],
         "title": {
          "text": "number"
         }
        },
        "yaxis": {
         "anchor": "x",
         "domain": [
          0,
          1
         ],
         "title": {
          "text": "stage"
         }
        }
       }
      }
     },
     "metadata": {},
     "output_type": "display_data"
    }
   ],
   "source": [
    "\n",
    "# Convert the dictionary to a pandas DataFrame\n",
    "data_df = pd.DataFrame({\n",
    "    \"number\": [\n",
    "        df[\"ad_click_date\"].notna().sum(),\n",
    "        df[\"landing_page_view_date\"].notna().sum(),\n",
    "        df[\"signup_date\"].notna().sum(),\n",
    "        df[\"trial_date\"].notna().sum(),\n",
    "        df[\"purchase_date\"].notna().sum()\n",
    "    ],\n",
    "    \"stage\": [\"Ad Clicked\", \"Landing Page Viewed\", \"Signed Up\", \"Trial Started\", \"Purchased\"]\n",
    "})\n",
    "\n",
    "# Create the funnel plot\n",
    "fig = px.funnel(data_df, x='number', y='stage', )\n",
    "fig.show()"
   ]
  },
  {
   "cell_type": "code",
   "execution_count": 15,
   "metadata": {},
   "outputs": [
    {
     "data": {
      "text/plain": [
       "[100, 85.54, 60.91, 68.94, 36.92]"
      ]
     },
     "execution_count": 15,
     "metadata": {},
     "output_type": "execute_result"
    }
   ],
   "source": [
    "funnel_counts = {\n",
    "    \"Ad Clicked\": df[\"ad_click_date\"].notna().sum(),\n",
    "    \"Landing Page Viewed\": df[\"landing_page_view_date\"].notna().sum(),\n",
    "    \"Signed Up\": df[\"signup_date\"].notna().sum(),\n",
    "    \"Trial Started\": df[\"trial_date\"].notna().sum(),\n",
    "    \"Purchased\": df[\"purchase_date\"].notna().sum()\n",
    "}\n",
    "\n",
    "# Create funnel conversion rates\n",
    "funnel_stages = list(funnel_counts.keys())\n",
    "funnel_values = list(funnel_counts.values())\n",
    "conversion_rates = [round((funnel_values[i] / funnel_values[i-1]) * 100, 2) if i > 0 else 100 for i in range(len(funnel_values))]\n",
    "\n",
    "conversion_rates"
   ]
  },
  {
   "cell_type": "markdown",
   "metadata": {},
   "source": [
    "### 3. Time to Convert Between Stages\n",
    "\n",
    "Calculating the median number of days users take to progress from one stage to the next."
   ]
  },
  {
   "cell_type": "code",
   "execution_count": 16,
   "metadata": {},
   "outputs": [
    {
     "data": {
      "text/plain": [
       "{'Click to View': 0.0,\n",
       " 'View to Signup': 2.0,\n",
       " 'Signup to Trial': 2.0,\n",
       " 'Trial to Purchase': 2.0}"
      ]
     },
     "execution_count": 16,
     "metadata": {},
     "output_type": "execute_result"
    }
   ],
   "source": [
    "# Time to convert between stages (median days)\n",
    "df_time = df.copy()\n",
    "df_time[\"click_to_view\"] = (df_time[\"landing_page_view_date\"] - df_time[\"ad_click_date\"]).dt.days\n",
    "df_time[\"view_to_signup\"] = (df_time[\"signup_date\"] - df_time[\"landing_page_view_date\"]).dt.days\n",
    "df_time[\"signup_to_trial\"] = (df_time[\"trial_date\"] - df_time[\"signup_date\"]).dt.days\n",
    "df_time[\"trial_to_purchase\"] = (df_time[\"purchase_date\"] - df_time[\"trial_date\"]).dt.days\n",
    "\n",
    "median_times = {\n",
    "    \"Click to View\": df_time[\"click_to_view\"].median(),\n",
    "    \"View to Signup\": df_time[\"view_to_signup\"].median(),\n",
    "    \"Signup to Trial\": df_time[\"signup_to_trial\"].median(),\n",
    "    \"Trial to Purchase\": df_time[\"trial_to_purchase\"].median()\n",
    "    }\n",
    "median_times"
   ]
  },
  {
   "cell_type": "markdown",
   "metadata": {},
   "source": [
    "### 4. Conversion by Channel\n",
    "\n",
    "Analyzing conversion rates to purchase for each marketing channel."
   ]
  },
  {
   "cell_type": "code",
   "execution_count": 19,
   "metadata": {},
   "outputs": [
    {
     "data": {
      "text/html": [
       "<div>\n",
       "<style scoped>\n",
       "    .dataframe tbody tr th:only-of-type {\n",
       "        vertical-align: middle;\n",
       "    }\n",
       "\n",
       "    .dataframe tbody tr th {\n",
       "        vertical-align: top;\n",
       "    }\n",
       "\n",
       "    .dataframe thead th {\n",
       "        text-align: right;\n",
       "    }\n",
       "</style>\n",
       "<table border=\"1\" class=\"dataframe\">\n",
       "  <thead>\n",
       "    <tr style=\"text-align: right;\">\n",
       "      <th></th>\n",
       "      <th>channel</th>\n",
       "      <th>Total_Ads_Clicks</th>\n",
       "      <th>Total_Landing_Page_Views</th>\n",
       "      <th>Total_SignUps</th>\n",
       "      <th>Total_Trials</th>\n",
       "      <th>Total_Purchases</th>\n",
       "    </tr>\n",
       "  </thead>\n",
       "  <tbody>\n",
       "    <tr>\n",
       "      <th>0</th>\n",
       "      <td>Email</td>\n",
       "      <td>824</td>\n",
       "      <td>715</td>\n",
       "      <td>425</td>\n",
       "      <td>294</td>\n",
       "      <td>111</td>\n",
       "    </tr>\n",
       "    <tr>\n",
       "      <th>1</th>\n",
       "      <td>Facebook</td>\n",
       "      <td>870</td>\n",
       "      <td>759</td>\n",
       "      <td>440</td>\n",
       "      <td>305</td>\n",
       "      <td>116</td>\n",
       "    </tr>\n",
       "    <tr>\n",
       "      <th>2</th>\n",
       "      <td>Google Ads</td>\n",
       "      <td>831</td>\n",
       "      <td>717</td>\n",
       "      <td>447</td>\n",
       "      <td>298</td>\n",
       "      <td>104</td>\n",
       "    </tr>\n",
       "    <tr>\n",
       "      <th>3</th>\n",
       "      <td>Instagram</td>\n",
       "      <td>783</td>\n",
       "      <td>664</td>\n",
       "      <td>430</td>\n",
       "      <td>298</td>\n",
       "      <td>117</td>\n",
       "    </tr>\n",
       "    <tr>\n",
       "      <th>4</th>\n",
       "      <td>TikTok</td>\n",
       "      <td>833</td>\n",
       "      <td>703</td>\n",
       "      <td>419</td>\n",
       "      <td>294</td>\n",
       "      <td>112</td>\n",
       "    </tr>\n",
       "    <tr>\n",
       "      <th>5</th>\n",
       "      <td>YouTube</td>\n",
       "      <td>859</td>\n",
       "      <td>719</td>\n",
       "      <td>444</td>\n",
       "      <td>307</td>\n",
       "      <td>103</td>\n",
       "    </tr>\n",
       "  </tbody>\n",
       "</table>\n",
       "</div>"
      ],
      "text/plain": [
       "      channel  Total_Ads_Clicks  Total_Landing_Page_Views  Total_SignUps  \\\n",
       "0       Email               824                       715            425   \n",
       "1    Facebook               870                       759            440   \n",
       "2  Google Ads               831                       717            447   \n",
       "3   Instagram               783                       664            430   \n",
       "4      TikTok               833                       703            419   \n",
       "5     YouTube               859                       719            444   \n",
       "\n",
       "   Total_Trials  Total_Purchases  \n",
       "0           294              111  \n",
       "1           305              116  \n",
       "2           298              104  \n",
       "3           298              117  \n",
       "4           294              112  \n",
       "5           307              103  "
      ]
     },
     "execution_count": 19,
     "metadata": {},
     "output_type": "execute_result"
    }
   ],
   "source": [
    "# Count Total Conversion of each step by Channel\n",
    "\n",
    "campaign_conversion_stages = df.groupby(\"channel\").agg(\n",
    "    Total_Ads_Clicks = (\"ad_click_date\", \"count\"),\n",
    "    Total_Landing_Page_Views = (\"landing_page_view_date\", \"count\"),\n",
    "    Total_SignUps = (\"signup_date\", \"count\"),\n",
    "    Total_Trials = (\"trial_date\",\"count\"),\n",
    "    Total_Purchases = (\"purchase_date\",\"count\")\n",
    ").reset_index()\n",
    "\n",
    "campaign_conversion_stages"
   ]
  },
  {
   "cell_type": "code",
   "execution_count": 17,
   "metadata": {},
   "outputs": [
    {
     "data": {
      "text/plain": [
       "channel\n",
       "Instagram     14.94\n",
       "Email         13.47\n",
       "TikTok        13.45\n",
       "Facebook      13.33\n",
       "Google Ads    12.52\n",
       "YouTube       11.99\n",
       "Name: purchase_date, dtype: float64"
      ]
     },
     "execution_count": 17,
     "metadata": {},
     "output_type": "execute_result"
    }
   ],
   "source": [
    "# Conversion by channel\n",
    "channel_conversion = df.groupby(\"channel\")[\"purchase_date\"].apply(lambda x: x.notna().mean() * 100).sort_values(ascending=False).round(2)\n",
    "\n",
    "channel_conversion"
   ]
  },
  {
   "cell_type": "markdown",
   "metadata": {},
   "source": [
    "### 5. Conversion by Campaign\n",
    "\n",
    "Analyzing conversion rates to purchase for each marketing campaign."
   ]
  },
  {
   "cell_type": "code",
   "execution_count": 20,
   "metadata": {},
   "outputs": [
    {
     "data": {
      "text/html": [
       "<div>\n",
       "<style scoped>\n",
       "    .dataframe tbody tr th:only-of-type {\n",
       "        vertical-align: middle;\n",
       "    }\n",
       "\n",
       "    .dataframe tbody tr th {\n",
       "        vertical-align: top;\n",
       "    }\n",
       "\n",
       "    .dataframe thead th {\n",
       "        text-align: right;\n",
       "    }\n",
       "</style>\n",
       "<table border=\"1\" class=\"dataframe\">\n",
       "  <thead>\n",
       "    <tr style=\"text-align: right;\">\n",
       "      <th></th>\n",
       "      <th>campaign</th>\n",
       "      <th>Total_Ads_Clicks</th>\n",
       "      <th>Total_Landing_Page_Views</th>\n",
       "      <th>Total_SignUps</th>\n",
       "      <th>Total_Trials</th>\n",
       "      <th>Total_Purchases</th>\n",
       "    </tr>\n",
       "  </thead>\n",
       "  <tbody>\n",
       "    <tr>\n",
       "      <th>0</th>\n",
       "      <td>Holiday Blitz</td>\n",
       "      <td>1635</td>\n",
       "      <td>1415</td>\n",
       "      <td>869</td>\n",
       "      <td>600</td>\n",
       "      <td>226</td>\n",
       "    </tr>\n",
       "    <tr>\n",
       "      <th>1</th>\n",
       "      <td>Spring Launch</td>\n",
       "      <td>1735</td>\n",
       "      <td>1469</td>\n",
       "      <td>873</td>\n",
       "      <td>611</td>\n",
       "      <td>210</td>\n",
       "    </tr>\n",
       "    <tr>\n",
       "      <th>2</th>\n",
       "      <td>Winter Promo</td>\n",
       "      <td>1630</td>\n",
       "      <td>1393</td>\n",
       "      <td>863</td>\n",
       "      <td>585</td>\n",
       "      <td>227</td>\n",
       "    </tr>\n",
       "  </tbody>\n",
       "</table>\n",
       "</div>"
      ],
      "text/plain": [
       "        campaign  Total_Ads_Clicks  Total_Landing_Page_Views  Total_SignUps  \\\n",
       "0  Holiday Blitz              1635                      1415            869   \n",
       "1  Spring Launch              1735                      1469            873   \n",
       "2   Winter Promo              1630                      1393            863   \n",
       "\n",
       "   Total_Trials  Total_Purchases  \n",
       "0           600              226  \n",
       "1           611              210  \n",
       "2           585              227  "
      ]
     },
     "execution_count": 20,
     "metadata": {},
     "output_type": "execute_result"
    }
   ],
   "source": [
    "# Count Total Conversion of each step by campaign\n",
    "\n",
    "campaign_conversion_stages = df.groupby(\"campaign\").agg(\n",
    "    Total_Ads_Clicks = (\"ad_click_date\", \"count\"),\n",
    "    Total_Landing_Page_Views = (\"landing_page_view_date\", \"count\"),\n",
    "    Total_SignUps = (\"signup_date\", \"count\"),\n",
    "    Total_Trials = (\"trial_date\",\"count\"),\n",
    "    Total_Purchases = (\"purchase_date\",\"count\")\n",
    ").reset_index()\n",
    "\n",
    "campaign_conversion_stages"
   ]
  },
  {
   "cell_type": "code",
   "execution_count": 18,
   "metadata": {},
   "outputs": [
    {
     "data": {
      "text/plain": [
       "campaign\n",
       "Winter Promo     13.93\n",
       "Holiday Blitz    13.82\n",
       "Spring Launch    12.10\n",
       "Name: purchase_date, dtype: float64"
      ]
     },
     "execution_count": 18,
     "metadata": {},
     "output_type": "execute_result"
    }
   ],
   "source": [
    "# Conversion by campaign\n",
    "campaign_conversion = df.groupby(\"campaign\")[\"purchase_date\"].apply(lambda x: x.notna().mean() * 100).sort_values(ascending=False).round(2)\n",
    "\n",
    "campaign_conversion"
   ]
  }
 ],
 "metadata": {
  "kernelspec": {
   "display_name": "base",
   "language": "python",
   "name": "python3"
  },
  "language_info": {
   "codemirror_mode": {
    "name": "ipython",
    "version": 3
   },
   "file_extension": ".py",
   "mimetype": "text/x-python",
   "name": "python",
   "nbconvert_exporter": "python",
   "pygments_lexer": "ipython3",
   "version": "3.12.4"
  }
 },
 "nbformat": 4,
 "nbformat_minor": 2
}
